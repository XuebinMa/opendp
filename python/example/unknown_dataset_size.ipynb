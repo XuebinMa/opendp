{
 "cells": [
  {
   "cell_type": "markdown",
   "metadata": {},
   "source": [
    "# Working with Unknown Dataset Sizes\n",
    "\n",
    "This notebook demonstrates the features built into OpenDP to handle unknown or private dataset sizes."
   ]
  },
  {
   "cell_type": "markdown",
   "metadata": {},
   "source": [
    "### Load exemplar dataset"
   ]
  },
  {
   "cell_type": "code",
   "execution_count": 46,
   "metadata": {
    "execution": {
     "iopub.execute_input": "2021-04-15T16:41:40.471981Z",
     "iopub.status.busy": "2021-04-15T16:41:40.458021Z",
     "iopub.status.idle": "2021-04-15T16:41:40.634785Z",
     "shell.execute_reply": "2021-04-15T16:41:40.635247Z"
    }
   },
   "outputs": [],
   "source": [
    "import os\n",
    "import sns as sns\n",
    "data_path = os.path.join('.', 'data', 'PUMS_california_demographics_1000', 'data.csv')\n",
    "with open(data_path) as data_file:\n",
    "    data = data_file.read()"
   ]
  },
  {
   "cell_type": "markdown",
   "metadata": {},
   "source": [
    "By looking at the private data, we see this dataset has 1000 observations (rows).\n",
    "Oftentimes the number of observations is public information.\n",
    "For example, a researcher might run a random poll of 1000 respondents and publicly announce the sample size.\n",
    "\n",
    "However, there are cases where simply the number of observations itself can leak private information.\n",
    "For example, if a dataset contained all the individuals with a rare disease in a community,\n",
    "then knowing the size of the dataset would reveal how many people in the community had that condition.\n",
    "In general, any given dataset may be some well-defined subset of a population.\n",
    "The given dataset's size is equivalent to a count query on that subset,\n",
    "so we should protect the dataset size just as we would protect any other query we want to provide privacy guarantees for.\n",
    "\n",
    "OpenDP assumes the sample size is private information.\n",
    "If you know the dataset size (or any other parameter) is publicly available,\n",
    "then you are free to make use of such information while building your measurement.\n",
    "\n",
    "OpenDP will not assume you truthfully or correctly know the size of the dataset.\n",
    "Moreover, OpenDP cannot respond with an error message if you get the size incorrect;\n",
    "doing so would permit an attack whereby an analyst could repeatedly guess different dataset sizes until the error message went away,\n",
    "thereby leaking the exact dataset size.\n",
    "\n",
    "If we know the dataset size, we can incorporate it into the analysis as below,\n",
    "where we provide `size` as an argument to the release of a sum on age.\n",
    "While the \"sum of ages\" is not a particularly useful statistic, it's plenty capable of demonstrating the concept."
   ]
  },
  {
   "cell_type": "code",
   "execution_count": 47,
   "metadata": {
    "execution": {
     "iopub.execute_input": "2021-04-15T16:41:40.645482Z",
     "iopub.status.busy": "2021-04-15T16:41:40.644181Z",
     "iopub.status.idle": "2021-04-15T16:41:40.686094Z",
     "shell.execute_reply": "2021-04-15T16:41:40.685529Z"
    },
    "pycharm": {
     "name": "#%%\n"
    }
   },
   "outputs": [
    {
     "name": "stdout",
     "output_type": "stream",
     "text": [
      "DP sum: 44796\n"
     ]
    }
   ],
   "source": [
    "from opendp.trans import *\n",
    "from opendp.meas import make_base_geometric, make_base_laplace\n",
    "from opendp.mod import enable_features, binary_search_param\n",
    "\n",
    "enable_features(\"contrib\")\n",
    "\n",
    "with open(data_path) as data_file:\n",
    "    data = data_file.read()\n",
    "\n",
    "# Define parameters up-front\n",
    "# Each parameter is either a guess, a DP release, or public information\n",
    "var_names = [\"age\", \"sex\", \"educ\", \"race\", \"income\", \"married\"]  # public information\n",
    "size = 1000 # public information\n",
    "age_bounds = (0, 100) # an educated guess\n",
    "constant = 38 # average age for entire US population (public information)\n",
    "\n",
    "dp_sum = (\n",
    "    # Load data into a dataframe of string columns\n",
    "    make_split_dataframe(separator=\",\", col_names=var_names) >>\n",
    "    # Selects a column of df, Vec<str>\n",
    "    make_select_column(key=\"age\", TOA=str) >>\n",
    "    # Cast the column as Vec<Int>\n",
    "    make_cast(TIA=str, TOA=int) >>\n",
    "    # Impute missing values to 0\n",
    "    make_impute_constant(constant) >>\n",
    "    # Clamp age values\n",
    "    make_clamp(bounds=age_bounds) >>\n",
    "    # Resize with the known `size`\n",
    "    make_bounded_resize(size=size, bounds=age_bounds, constant=constant) >>\n",
    "    # Aggregate\n",
    "    make_sized_bounded_sum(size=size, bounds=age_bounds) >>\n",
    "    # Noise\n",
    "    make_base_geometric(scale=1.)\n",
    ")\n",
    "\n",
    "release = dp_sum(data)\n",
    "print(\"DP sum:\", release)\n"
   ]
  },
  {
   "cell_type": "markdown",
   "metadata": {},
   "source": [
    "### Providing incorrect dataset size values\n",
    "\n",
    "However, if we provide an incorrect value of `n` we still receive an answer.\n",
    "\n",
    "`make_sum_measurement` is just a convenience constructor for building a sum measurement from a `size` argument."
   ]
  },
  {
   "cell_type": "code",
   "execution_count": 48,
   "metadata": {
    "execution": {
     "iopub.execute_input": "2021-04-15T16:41:40.694235Z",
     "iopub.status.busy": "2021-04-15T16:41:40.693539Z",
     "iopub.status.idle": "2021-04-15T16:41:40.711013Z",
     "shell.execute_reply": "2021-04-15T16:41:40.711551Z"
    }
   },
   "outputs": [
    {
     "name": "stdout",
     "output_type": "stream",
     "text": [
      "DP sum (n=200):  8810\n",
      "DP sum (n=1000): 44797\n",
      "DP sum (n=2000): 82798\n"
     ]
    }
   ],
   "source": [
    "preprocessor = (\n",
    "    make_split_dataframe(separator=\",\", col_names=var_names) >>\n",
    "    make_select_column(key=\"age\", TOA=str) >>\n",
    "    make_cast_default(TIA=str, TOA=int) >>\n",
    "    make_clamp(age_bounds)\n",
    ")\n",
    "\n",
    "def make_sum_measurement(size):\n",
    "    return make_bounded_resize(size=size, bounds=age_bounds, constant=constant) >> \\\n",
    "           make_sized_bounded_sum(size=size, bounds=age_bounds) >> \\\n",
    "           make_base_geometric(scale=1.0)\n",
    "\n",
    "lower_n = (preprocessor >> make_sum_measurement(size=200))(data)\n",
    "real_n = (preprocessor >> make_sum_measurement(size=1000))(data)\n",
    "higher_n = (preprocessor >> make_sum_measurement(size=2000))(data)\n",
    "\n",
    "print(\"DP sum (n=200):  {0}\".format(lower_n))\n",
    "print(\"DP sum (n=1000): {0}\".format(real_n))\n",
    "print(\"DP sum (n=2000): {0}\".format(higher_n))\n",
    "\n"
   ]
  },
  {
   "cell_type": "markdown",
   "metadata": {},
   "source": [
    "### Analysis with no provided dataset size\n",
    "If we do not believe we have an accurate estimate for `size` we can instead pay some of our privacy budget\n",
    "to estimate the dataset size.\n",
    "Then we can use that estimate in the rest of the analysis.\n",
    "Here is an example:"
   ]
  },
  {
   "cell_type": "code",
   "execution_count": 49,
   "metadata": {
    "execution": {
     "iopub.execute_input": "2021-04-15T16:41:40.731918Z",
     "iopub.status.busy": "2021-04-15T16:41:40.731318Z",
     "iopub.status.idle": "2021-04-15T16:41:40.740106Z",
     "shell.execute_reply": "2021-04-15T16:41:40.739600Z"
    }
   },
   "outputs": [
    {
     "name": "stdout",
     "output_type": "stream",
     "text": [
      "DP count: 1001\n",
      "DP sum: 44833\n"
     ]
    }
   ],
   "source": [
    "# First, make the measurement\n",
    "dp_count = (\n",
    "    make_split_dataframe(separator=\",\", col_names=var_names) >>\n",
    "    make_select_column(key=\"age\", TOA=str) >>\n",
    "    make_count(TIA=str) >>\n",
    "    make_base_geometric(scale=1.)\n",
    ")\n",
    "dp_count_release = dp_count(data)\n",
    "print(\"DP count: {0}\".format(dp_count_release))\n",
    "\n",
    "dp_sum = preprocessor >> make_sum_measurement(dp_count_release)\n",
    "dp_sum_release = dp_sum(data)\n",
    "print(\"DP sum: {0}\".format(dp_sum_release))"
   ]
  },
  {
   "cell_type": "code",
   "execution_count": 60,
   "outputs": [],
   "source": [
    "def make_count_chain(epsilon):\n",
    "    count_chain = (\n",
    "        make_split_dataframe(separator=\",\", col_names=var_names) >>\n",
    "        make_select_column(key=\"age\", TOA=str) >>\n",
    "        make_count(TIA=str)\n",
    "    )\n",
    "    discovered_scale = binary_search_param(\n",
    "        lambda s: count_chain >> make_base_geometric(scale=s),\n",
    "        d_in=1,\n",
    "        d_out=epsilon)\n",
    "\n",
    "    return count_chain >> make_base_geometric(scale=discovered_scale)\n",
    "\n",
    "def make_mean_chain(data_size, epsilon):\n",
    "    mean_chain = (\n",
    "        # Convert data into a dataframe of string columns\n",
    "        make_split_dataframe(separator=\",\", col_names=var_names) >>\n",
    "        # Selects a column of df, Vec<str>\n",
    "        make_select_column(key=\"age\", TOA=str) >>\n",
    "        # Cast the column as Vec<float>, and fill nulls with the default value, 0.\n",
    "        make_cast_default(TIA=str, TOA=float) >>\n",
    "        # Clamp age values\n",
    "        make_clamp(bounds=(0., 120.)) >>\n",
    "        # Resize the dataset to length `count_release`.\n",
    "        #     If there are fewer than `count_release` rows in the data, fill with a constant of 20.\n",
    "        #     If there are more than `count_release` rows in the data, only keep `count_release` rows\n",
    "        make_bounded_resize(size=data_size, bounds=(0., 120.), constant=60.) >>\n",
    "        # Compute the mean\n",
    "        make_sized_bounded_mean(size=data_size, bounds=(0., 120.))\n",
    "    )\n",
    "    discovered_scale = binary_search_param(\n",
    "        lambda s: mean_chain >> make_base_laplace(scale=s),\n",
    "        d_in=1,\n",
    "        d_out=epsilon)\n",
    "\n",
    "    return mean_chain >> make_base_laplace(scale=discovered_scale)\n",
    "\n",
    "def make_sum_chain(epsilon):\n",
    "    bounded_age_sum = (\n",
    "        # Convert data into a dataframe where columns are of type Vec<str>\n",
    "        make_split_dataframe(separator=\",\", col_names=var_names) >>\n",
    "        # Selects a column of df, Vec<str>\n",
    "        make_select_column(key=\"age\", TOA=str) >>\n",
    "        # Cast the column as Vec<float>, and fill nulls with the default value, 0.\n",
    "        make_cast_default(TIA=str, TOA=float) >>\n",
    "        # make_impute_constant(20.) >>\n",
    "        # Clamp income values\n",
    "        make_clamp(bounds=(0., 120.)) >>\n",
    "        # These bounds must be identical to the clamp bounds, otherwise chaining will fail\n",
    "        make_bounded_sum(bounds=(0., 120.))\n",
    "    )\n",
    "    discovered_scale = binary_search_param(\n",
    "        lambda s: bounded_age_sum >> make_base_laplace(scale=s),\n",
    "        d_in=1,\n",
    "        d_out=epsilon)\n",
    "\n",
    "    return bounded_age_sum >> make_base_laplace(scale=discovered_scale)"
   ],
   "metadata": {
    "collapsed": false,
    "pycharm": {
     "name": "#%%\n"
    }
   }
  },
  {
   "cell_type": "code",
   "execution_count": 63,
   "outputs": [],
   "source": [
    "# Let's run multiple simulations\n",
    "import numpy as np\n",
    "\n",
    "enable_features(\"floating-point\")\n",
    "\n",
    "with open(data_path) as data_file:\n",
    "    data = data_file.read()\n",
    "\n",
    "n_sims = 1000\n",
    "history = np.zeros(shape=(n_sims, 2), dtype=float)\n",
    "\n",
    "for i in range(n_sims):\n",
    "    count_chain = make_count_chain(1.)\n",
    "    dp_data_size = count_chain(data)\n",
    "    mean_chain = make_mean_chain(dp_data_size, 1.)\n",
    "    age_mean = mean_chain(data)\n",
    "    history[i,0] = dp_data_size\n",
    "    history[i,1] = age_mean"
   ],
   "metadata": {
    "collapsed": false,
    "pycharm": {
     "name": "#%%\n"
    }
   }
  },
  {
   "cell_type": "code",
   "execution_count": 64,
   "outputs": [
    {
     "data": {
      "text/plain": "<Figure size 432x288 with 1 Axes>",
      "image/png": "[encoded data removed]"
     },
     "metadata": {
      "needs_background": "light"
     },
     "output_type": "display_data"
    }
   ],
   "source": [
    "import statistics\n",
    "\n",
    "import matplotlib.pyplot as plt\n",
    "\n",
    "## plot the simulated values,\n",
    "## as well as their numerical average (for any dataset size > 6 simulations),\n",
    "## and finally the expected value.\n",
    "\n",
    "# plot raw simulations\n",
    "plt.plot(history[:, 0],history[:, 1], 'o', fillstyle='none', color = 'cornflowerblue')\n",
    "\n",
    "min_count = int(min(history[:, 0]))\n",
    "max_count = int(max(history[:, 0]))\n",
    "\n",
    "count_range = range(int(min(history[:, 0])), int(max(history[:, 0])))\n",
    "expected_values = np.zeros(shape=(len(count_range), 2), dtype=float)\n",
    "expected_values[:, 0] = list(count_range)\n",
    "\n",
    "data = np.genfromtxt(data_path, delimiter=',', names=var_names)\n",
    "age = list(data[:]['age'])\n",
    "true_mean_age = statistics.mean(age)\n",
    "\n",
    "counter = 0\n",
    "for count in count_range:\n",
    "    flag = history[:,0] == count\n",
    "    subhistory = history[flag,1]\n",
    "    if len(subhistory)>6:\n",
    "        mean_sim = np.mean(subhistory)\n",
    "        # plot average simulation by dp release of dataset size\n",
    "        plt.plot(count, mean_sim, 'o', color = 'indigo')\n",
    "    if count<=1000:\n",
    "        expected_values[counter, 1] = true_mean_age\n",
    "    else:\n",
    "        expected_values[counter, 1] = ((true_mean_age* 1000) + ((count-1000)*50))/count\n",
    "    counter += 1\n",
    "\n",
    "# plot the expected value by dp release of dataset size\n",
    "plt.plot(expected_values[:, 0], expected_values[:, 1], linestyle='--', color = 'tomato')\n",
    "plt.ylabel('DP Release of Age')\n",
    "plt.xlabel('n')\n",
    "plt.show()"
   ],
   "metadata": {
    "collapsed": false,
    "pycharm": {
     "name": "#%%\n"
    }
   }
  },
  {
   "cell_type": "markdown",
   "metadata": {},
   "source": [
    "Note that our privacy usage has increased because we apportioned some epsilon for both the release count of the dataset,\n",
    "and the mean of the dataset."
   ]
  },
  {
   "cell_type": "code",
   "execution_count": 53,
   "outputs": [
    {
     "data": {
      "text/plain": "<Figure size 432x288 with 1 Axes>",
      "image/png": "[encoded data removed]"
     },
     "metadata": {
      "needs_background": "light"
     },
     "output_type": "display_data"
    }
   ],
   "source": [
    "import pandas as pd\n",
    "import seaborn as sns\n",
    "\n",
    "enable_features(\"floating-point\")\n",
    "\n",
    "# initialize data\n",
    "n_range = range(100, 2001, 200)\n",
    "n_sims = 50\n",
    "ns = []\n",
    "releases = []\n",
    "\n",
    "with open(data_path) as data_file:\n",
    "    data = data_file.read()\n",
    "\n",
    "chain = make_mean_chain(1000, 1.)\n",
    "dp_mean = chain(data)\n",
    "for n in n_range:\n",
    "    for index in range(n_sims):\n",
    "        # get mean of age\n",
    "        ns.append(n)\n",
    "        chain = make_mean_chain(n, 1.)\n",
    "        dp_mean = chain(data)\n",
    "        releases.append(dp_mean)\n",
    "\n",
    "# get released values\n",
    "values = [release for release in releases]\n",
    "df = pd.DataFrame({'n': ns, 'release': values})\n",
    "\n",
    "# get true mean\n",
    "data = np.genfromtxt(data_path, delimiter=',', names=var_names)\n",
    "age = list(data[:]['age'])\n",
    "true_mean_age = statistics.mean(age)\n",
    "\n",
    "# plot distribution of releases by n\n",
    "plot = sns.boxplot(x = 'n', y = 'release', data = df)\n",
    "plot.axhline(true_mean_age)\n",
    "plt.show()"
   ],
   "metadata": {
    "collapsed": false,
    "pycharm": {
     "name": "#%%\n"
    }
   }
  },
  {
   "cell_type": "markdown",
   "metadata": {},
   "source": [
    "### OpenDP `resize` vs. other approaches\n",
    "The standard formula for the mean of a variable is:\n",
    "$\\bar{x} = \\frac{\\sum{x}}{n}$\n",
    "\n",
    "The conventional, and simpler, approach in the differential privacy literature, is to: \n",
    "\n",
    "1. compute a DP sum of the variable for the numerator\n",
    "2. compute a DP count of the dataset rows for the denominator\n",
    "3. take their ratio\n",
    "\n",
    "This is sometimes called a 'plug-in' approach, as we are plugging-in differentially private answers for each of the\n",
    "terms in the original formula, without any additional modifications, and using the resulting answer as our\n",
    "estimate while ignoring the noise processes of differential privacy. While this 'plug-in' approach does result in a\n",
    "differentially private value, the utility here is generally lower than the solution in OpenDP.  Because the number of\n",
    "terms summed in the numerator does not agree with the value in the denominator, the variance is increased and the\n",
    "resulting distribution becomes both biased and asymmetrical, which is visually noticeable in smaller samples."
   ]
  },
  {
   "cell_type": "code",
   "execution_count": 54,
   "outputs": [],
   "source": [
    "with open(data_path) as data_file:\n",
    "    data = data_file.read()\n",
    "\n",
    "n_sims = 1000\n",
    "history = np.zeros(shape=(n_sims, 2), dtype=float)\n",
    "\n",
    "\n",
    "count_chain = make_count_chain(0.5)\n",
    "sum_chain = make_sum_chain(0.5)\n",
    "dp_mean = chain(data)\n",
    "for index in range(n_sims):\n",
    "    sum_chain = make_sum_chain(0.5)\n",
    "    count_chain = make_count_chain(0.5)\n",
    "    dp_sum = sum_chain(data)\n",
    "    dp_count = count_chain(data)\n",
    "\n",
    "    mean_chain = make_mean_chain(dp_count, 1.)\n",
    "    dp_mean = mean_chain(data)\n",
    "\n",
    "    history[index, 0] = dp_sum / dp_count\n",
    "    history[index, 1] = dp_mean"
   ],
   "metadata": {
    "collapsed": false,
    "pycharm": {
     "name": "#%%\n"
    }
   }
  },
  {
   "cell_type": "code",
   "execution_count": 55,
   "outputs": [
    {
     "data": {
      "text/plain": "<Figure size 432x288 with 1 Axes>",
      "image/png": "[encoded data removed]"
     },
     "metadata": {
      "needs_background": "light"
     },
     "output_type": "display_data"
    }
   ],
   "source": [
    "import seaborn as sns\n",
    "\n",
    "data = np.genfromtxt(data_path, delimiter=',', names=var_names)\n",
    "age = list(data[:]['age'])\n",
    "true_mean_age = statistics.mean(age)\n",
    "\n",
    "fig, ax = plt.subplots()\n",
    "sns.kdeplot(history[:, 1], fill=True, linewidth=3,\n",
    "                 label = 'SmartNoise Mean')\n",
    "sns.kdeplot(history[:, 0], fill=True, linewidth=3,\n",
    "                 label = 'Plug-in Mean')\n",
    "\n",
    "ax.plot([true_mean_age,true_mean_age], [0,2], linestyle='--', color = 'forestgreen')\n",
    "plt.xlabel('DP Release of Age')\n",
    "#plt.ylabel('Density')\n",
    "leg = ax.legend()"
   ],
   "metadata": {
    "collapsed": false,
    "pycharm": {
     "name": "#%%\n"
    }
   }
  },
  {
   "cell_type": "markdown",
   "metadata": {
    "pycharm": {
     "name": "#%% md\n"
    }
   },
   "source": [
    "We have noticed that for the same privacy loss,\n",
    "the distribution of answers from OpenDP's resizing approach to the mean is tighter around the true dataset value (thus lower in error) than the conventional plug-in approach.\n",
    "\n",
    "*Note, in these simulations, we've shown equal division of the epsilon for all constituent releases,\n",
    "but higher utility (lower error) can be generally gained by moving more of the epsilon into the sum,\n",
    "and using less in the count of the dataset rows, as in earlier examples.*"
   ]
  }
 ],
 "metadata": {
  "kernelspec": {
   "display_name": "Python 3",
   "language": "python",
   "name": "python3"
  },
  "language_info": {
   "codemirror_mode": {
    "name": "ipython",
    "version": 3
   },
   "file_extension": ".py",
   "mimetype": "text/x-python",
   "name": "python",
   "nbconvert_exporter": "python",
   "pygments_lexer": "ipython3",
   "version": "3.8.12"
  }
 },
 "nbformat": 4,
 "nbformat_minor": 2
}